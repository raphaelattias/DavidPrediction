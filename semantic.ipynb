{
 "cells": [
  {
   "attachments": {},
   "cell_type": "markdown",
   "metadata": {},
   "source": [
    "To apply hierarchical clustering and k-means clustering to a tabular dataset with categorical variables, the following steps can be taken:\n",
    "\n",
    "1. Load the data into a pandas dataframe.\n",
    "2. Preprocess the data by converting the categorical variables into one-hot encoded vectors using the `pd.get_dummies()` function.\n",
    "3. Apply the clustering algorithm of choice, such as hierarchical clustering or k-means clustering, to the preprocessed data.\n",
    "4. Analyze the resulting clusters, such as by visualizing them using t-SNE or by examining the characteristics of the data points in each cluster.\n",
    "5. (Optional) Use the resulting clusters to make predictions or to guide further analysis of the data.\n",
    "\n",
    "It's important to note that the choice of clustering algorithm and the preprocessing steps may vary depending on the specific dataset and research question at hand. It's also important to carefully choose the number of clusters in order to avoid overfitting or underfitting the data. Various methods, such as the elbow method or silhouette analysis, can be used to determine an appropriate number of clusters.\n"
   ]
  },
  {
   "cell_type": "code",
   "execution_count": null,
   "metadata": {},
   "outputs": [],
   "source": [
    "# conda env create -f environment.yml -n torch\n",
    "# conda activate torch"
   ]
  },
  {
   "cell_type": "code",
   "execution_count": null,
   "metadata": {},
   "outputs": [],
   "source": [
    "import pandas as pd\n",
    "import numpy as np\n",
    "\n",
    "data_path = 'data/2223RX19_Project_Data.xlsx'\n",
    "\n",
    "# Load the xlsx file\n",
    "df = pd.read_excel(data_path)\n",
    "\n",
    "# split the categories into separate strings\n",
    "categories = df['CATEGORY']\n"
   ]
  },
  {
   "cell_type": "code",
   "execution_count": null,
   "metadata": {},
   "outputs": [],
   "source": [
    "from transformers import AutoTokenizer, AutoModel\n",
    "import torch \n",
    "# Load AutoTokenizer for a specific pre-trained model\n",
    "tokenizer = AutoTokenizer.from_pretrained(\"bert-base-uncased\")\n",
    "model = AutoModel.from_pretrained(\"bert-base-uncased\").to('mps')\n",
    "\n"
   ]
  },
  {
   "cell_type": "code",
   "execution_count": null,
   "metadata": {},
   "outputs": [],
   "source": [
    "from torch.utils.data import DataLoader, Dataset\n",
    "from tqdm import tqdm\n",
    "# Define a dataset class\n",
    "class CategoryDataset(Dataset):\n",
    "    def __init__(self, categories, tokenizer):\n",
    "        self.categories = categories\n",
    "        self.tokenizer = tokenizer\n",
    "\n",
    "    def __len__(self):\n",
    "        return len(self.categories)\n",
    "\n",
    "    def __getitem__(self, idx):\n",
    "        return self.categories[idx]\n",
    "\n",
    "# Create a dataset object\n",
    "dataset = CategoryDataset(categories, tokenizer)\n",
    "\n",
    "# Create a DataLoader object to create batches of data\n",
    "batch_size = 16\n",
    "dataloader = DataLoader(dataset, batch_size=batch_size)\n",
    "\n",
    "# Create a matrix of embeddings for each category\n",
    "embeddings_matrix = np.zeros((len(categories), 768))\n",
    "for i, batch in tqdm(enumerate(dataloader), total=len(dataset)//batch_size):\n",
    "    with torch.no_grad():\n",
    "        # tokenize the batch of categories\n",
    "        tokens = tokenizer(batch, padding=True, truncation=True, return_tensors=\"pt\").to('mps')\n",
    "        # generate the embeddings\n",
    "        outputs = model(**tokens).last_hidden_state.mean(dim=1)\n",
    "        # convert the embeddings to numpy\n",
    "        embeddings = outputs.cpu().numpy()\n",
    "        # add the embeddings to the dataframe\n",
    "        embeddings_matrix[i*batch_size:(i+1)*batch_size] = embeddings\n",
    "\n"
   ]
  },
  {
   "cell_type": "code",
   "execution_count": null,
   "metadata": {},
   "outputs": [],
   "source": [
    "from sklearn.cluster import KMeans\n",
    "\n",
    "# Set the number of clusters\n",
    "num_clusters = 5\n",
    "\n",
    "# Create a KMeans object\n",
    "kmeans = KMeans(n_clusters=num_clusters, random_state=42)\n",
    "\n",
    "# Fit the KMeans object to the embeddings_matrix\n",
    "kmeans.fit(embeddings_matrix)\n",
    "\n",
    "# Get the cluster labels for each row of embeddings_matrix\n",
    "df['cluster_label'] = kmeans.labels_\n",
    "\n",
    "df.to_excel('export/2223RX19_Project_Data_With_Bert_Cluster_Label.xlsx')\n"
   ]
  },
  {
   "cell_type": "code",
   "execution_count": null,
   "metadata": {},
   "outputs": [],
   "source": [
    "grouped = df.groupby('cluster_label')\n",
    "for label, group in grouped:\n",
    "    print(f'Cluster {label}: {list(group[\"COMPANY_ID\"])}')"
   ]
  },
  {
   "cell_type": "code",
   "execution_count": null,
   "metadata": {},
   "outputs": [],
   "source": [
    "import pandas as pd\n",
    "import numpy as np\n",
    "from sklearn.manifold import TSNE\n",
    "import matplotlib.pyplot as plt\n",
    "\n",
    "# apply t-SNE to reduce the dimensionality of the one-hot encoded categories\n",
    "tsne = TSNE(n_components=2, verbose=1, perplexity=40, n_iter=300)\n",
    "tsne_results = tsne.fit_transform(embeddings_matrix)\n",
    "\n",
    "# create a new dataframe with the t-SNE results\n",
    "tsne_df = pd.DataFrame(data=tsne_results, columns=['tsne_1', 'tsne_2'])\n",
    "\n",
    "# plot the t-SNE results and color the points by the cluster labels\n",
    "plt.figure(figsize=(16,10))\n",
    "plt.scatter(tsne_df['tsne_1'], tsne_df['tsne_2'], c=df['cluster_label'], cmap='tab20')\n",
    "plt.title('t-SNE Clustering of Categories')\n",
    "plt.xlabel('t-SNE 1')\n",
    "plt.ylabel('t-SNE 2')\n",
    "plt.show()"
   ]
  },
  {
   "cell_type": "code",
   "execution_count": null,
   "metadata": {},
   "outputs": [],
   "source": []
  }
 ],
 "metadata": {
  "kernelspec": {
   "display_name": "base",
   "language": "python",
   "name": "python3"
  },
  "language_info": {
   "codemirror_mode": {
    "name": "ipython",
    "version": 3
   },
   "file_extension": ".py",
   "mimetype": "text/x-python",
   "name": "python",
   "nbconvert_exporter": "python",
   "pygments_lexer": "ipython3",
   "version": "3.10.6"
  },
  "orig_nbformat": 4
 },
 "nbformat": 4,
 "nbformat_minor": 2
}
