{
 "cells": [
  {
   "attachments": {},
   "cell_type": "markdown",
   "metadata": {},
   "source": [
    "To apply hierarchical clustering and k-means clustering to a tabular dataset with categorical variables, the following steps can be taken:\n",
    "\n",
    "1. Load the data into a pandas dataframe.\n",
    "2. Preprocess the data by converting the categorical variables into one-hot encoded vectors using the `pd.get_dummies()` function.\n",
    "3. Apply the clustering algorithm of choice, such as hierarchical clustering or k-means clustering, to the preprocessed data.\n",
    "4. Analyze the resulting clusters, such as by visualizing them using t-SNE or by examining the characteristics of the data points in each cluster.\n",
    "5. (Optional) Use the resulting clusters to make predictions or to guide further analysis of the data.\n",
    "\n",
    "It's important to note that the choice of clustering algorithm and the preprocessing steps may vary depending on the specific dataset and research question at hand. It's also important to carefully choose the number of clusters in order to avoid overfitting or underfitting the data. Various methods, such as the elbow method or silhouette analysis, can be used to determine an appropriate number of clusters.\n"
   ]
  },
  {
   "cell_type": "code",
   "execution_count": null,
   "metadata": {},
   "outputs": [],
   "source": [
    "import pandas as pd\n",
    "import numpy as np\n",
    "\n",
    "data_path = 'data/2223RX19_Project_Data.xlsx'\n",
    "\n",
    "# Load the xlsx file\n",
    "df = pd.read_excel(data_path)\n",
    "\n",
    "# split the categories into separate strings\n",
    "categories = df['CATEGORY'].str.split(', ')\n",
    "\n",
    "# create one-hot encoded vectors for each unique category\n",
    "one_hot_categories = pd.get_dummies(categories.apply(pd.Series).stack()).sum(level=0)\n",
    "\n",
    "# combine the one-hot encoded vectors with the original dataframe\n",
    "df = pd.concat([df, one_hot_categories], axis=1)\n"
   ]
  },
  {
   "cell_type": "code",
   "execution_count": null,
   "metadata": {},
   "outputs": [],
   "source": [
    "df"
   ]
  },
  {
   "cell_type": "code",
   "execution_count": null,
   "metadata": {},
   "outputs": [],
   "source": [
    "from tqdm import tqdm\n",
    "# determine the optimal number of clusters using the elbow method\n",
    "step = 20\n",
    "wcss = []\n",
    "for i in tqdm(range(1, 600, step)):\n",
    "    kmeans = KMeans(n_clusters=i, init='k-means++', max_iter=300, n_init=10, random_state=0)\n",
    "    kmeans.fit(one_hot_categories)\n",
    "    wcss.append(kmeans.inertia_)\n",
    "\n"
   ]
  },
  {
   "cell_type": "code",
   "execution_count": null,
   "metadata": {},
   "outputs": [],
   "source": [
    "# plot the within-cluster sum of squares for different values of K\n",
    "plt.plot(range(1, 600, step), wcss)\n",
    "plt.title('The Elbow Method')\n",
    "plt.xlabel('Number of Clusters')\n",
    "plt.ylabel('Within-Cluster Sum of Squares')\n",
    "\n",
    "# draw line at the elbow\n",
    "plt.axvline(x=20, color='r', linestyle='--')\n",
    "\n",
    "plt.show()\n",
    "\n",
    "# Elbow methods indicates that the optimal number of clusters is 50 \n",
    "\n",
    "kmeans = KMeans(n_clusters=8, init='k-means++', max_iter=300, n_init=10, random_state=0)\n",
    "kmeans.fit(one_hot_categories)\n",
    "\n",
    "# add a new column to the original dataframe to store the cluster labels\n",
    "df['cluster_label'] = kmeans.labels_\n",
    "\n",
    "# export new df to xlsx \n",
    "df.to_excel('export/2223RX19_Project_Data_With_Cluster_Label.xlsx')\n"
   ]
  },
  {
   "cell_type": "code",
   "execution_count": null,
   "metadata": {},
   "outputs": [],
   "source": [
    "# group the data by the new cluster labels and print the COMPANY_ID for each label\n",
    "grouped = df.groupby('cluster_label')\n",
    "for label, group in grouped:\n",
    "    print(f'Cluster {label}: {list(group[\"COMPANY_ID\"])}')"
   ]
  },
  {
   "cell_type": "code",
   "execution_count": null,
   "metadata": {},
   "outputs": [],
   "source": [
    "import pandas as pd\n",
    "import numpy as np\n",
    "from sklearn.manifold import TSNE\n",
    "\n",
    "\n",
    "# apply t-SNE to reduce the dimensionality of the one-hot encoded categories\n",
    "tsne = TSNE(n_components=2, verbose=1, perplexity=40, n_iter=300)\n",
    "tsne_results = tsne.fit_transform(one_hot_categories)\n",
    "\n",
    "# create a new dataframe with the t-SNE results\n",
    "tsne_df = pd.DataFrame(data=tsne_results, columns=['tsne_1', 'tsne_2'])\n",
    "\n",
    "# plot the t-SNE results and color the points by the cluster labels\n",
    "plt.figure(figsize=(16,10))\n",
    "plt.scatter(tsne_df['tsne_1'], tsne_df['tsne_2'], c=df['cluster_label'], cmap='tab20')\n",
    "plt.title('t-SNE Clustering of Categories')\n",
    "plt.xlabel('t-SNE 1')\n",
    "plt.ylabel('t-SNE 2')\n",
    "plt.show()"
   ]
  },
  {
   "cell_type": "code",
   "execution_count": null,
   "metadata": {},
   "outputs": [],
   "source": []
  },
  {
   "cell_type": "code",
   "execution_count": null,
   "metadata": {},
   "outputs": [],
   "source": []
  }
 ],
 "metadata": {
  "kernelspec": {
   "display_name": "base",
   "language": "python",
   "name": "python3"
  },
  "language_info": {
   "codemirror_mode": {
    "name": "ipython",
    "version": 3
   },
   "file_extension": ".py",
   "mimetype": "text/x-python",
   "name": "python",
   "nbconvert_exporter": "python",
   "pygments_lexer": "ipython3",
   "version": "3.10.6"
  },
  "orig_nbformat": 4
 },
 "nbformat": 4,
 "nbformat_minor": 2
}
